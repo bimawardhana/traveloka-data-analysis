{
  "nbformat": 4,
  "nbformat_minor": 0,
  "metadata": {
    "colab": {
      "name": "Solution_BimaSatria-SuryaWardhana.ipynb",
      "provenance": [],
      "include_colab_link": true
    },
    "kernelspec": {
      "name": "python2",
      "display_name": "Python 2"
    }
  },
  "cells": [
    {
      "cell_type": "markdown",
      "metadata": {
        "id": "view-in-github",
        "colab_type": "text"
      },
      "source": [
        "<a href=\"https://colab.research.google.com/github/bimawardhana/traveloka-data-analysis/blob/master/traveloka-data-challenge/Solution_BimaSatria_SuryaWardhana.ipynb\" target=\"_parent\"><img src=\"https://colab.research.google.com/assets/colab-badge.svg\" alt=\"Open In Colab\"/></a>"
      ]
    },
    {
      "cell_type": "markdown",
      "metadata": {
        "id": "vJ472K8jD_pq",
        "colab_type": "text"
      },
      "source": [
        "# **TRAVELOKA CUSTOMER ANALYSIS**\n",
        "\n",
        "---\n",
        "\n",
        "This analysis is used as a part of [Traveloka Data Challenge](https://traveloka.tau-data.com/2019/10/23/2019-tdc/) — using real cases scenario of Traveloka customers. Data used has been altered to match the challenges' requirement; therefore, some insights might not reflect the real world situation. However, some methods used in this analysis might be useful for any real-world analysis that might be conduected in the future."
      ]
    },
    {
      "cell_type": "code",
      "metadata": {
        "id": "QoF9Im7zFe0E",
        "colab_type": "code",
        "colab": {
          "base_uri": "https://localhost:8080/",
          "height": 34
        },
        "outputId": "dfc18a49-a209-4508-d94c-f8751ba23ff6"
      },
      "source": [
        "from google.colab import auth\n",
        "\n",
        "# AUTHENTICATION — interactively using web browser\n",
        "auth.authenticate_user()\n",
        "print('Authenticated')"
      ],
      "execution_count": 1,
      "outputs": [
        {
          "output_type": "stream",
          "text": [
            "Authenticated\n"
          ],
          "name": "stdout"
        }
      ]
    },
    {
      "cell_type": "code",
      "metadata": {
        "id": "d3VVSGpCOu4a",
        "colab_type": "code",
        "colab": {}
      },
      "source": [
        "# Display query output immediately\n",
        "\n",
        "%%bigquery --project tvlk-data-mktanalytics-dev\n",
        "SELECT \n",
        "  *\n",
        "FROM `tvlk-data-mktscience-dev.data_challenge.customer_lifecycle`"
      ],
      "execution_count": 0,
      "outputs": []
    }
  ]
}