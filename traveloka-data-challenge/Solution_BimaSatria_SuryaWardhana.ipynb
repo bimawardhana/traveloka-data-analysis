{
  "nbformat": 4,
  "nbformat_minor": 0,
  "metadata": {
    "colab": {
      "name": "Solution_BimaSatria-SuryaWardhana.ipynb",
      "provenance": [],
      "include_colab_link": true
    },
    "kernelspec": {
      "name": "python2",
      "display_name": "Python 2"
    }
  },
  "cells": [
    {
      "cell_type": "markdown",
      "metadata": {
        "id": "view-in-github",
        "colab_type": "text"
      },
      "source": [
        "<a href=\"https://colab.research.google.com/github/bimawardhana/traveloka-data-analysis/blob/master/traveloka-data-challenge/Solution_BimaSatria_SuryaWardhana.ipynb\" target=\"_parent\"><img src=\"https://colab.research.google.com/assets/colab-badge.svg\" alt=\"Open In Colab\"/></a>"
      ]
    },
    {
      "cell_type": "markdown",
      "metadata": {
        "id": "vJ472K8jD_pq",
        "colab_type": "text"
      },
      "source": [
        "# **TRAVELOKA CUSTOMERS ANALYSIS & INSIGHT**\n",
        "\n",
        "**BIMA SATRIA SURYA WARDHANA**\n",
        "\n",
        "*Data Analyst (DA) — Marketing Analytics*\n",
        "\n",
        "\n",
        "---\n",
        "\n",
        "\n",
        "\n",
        "This analysis is used as a part of [Traveloka Data Challenge](https://traveloka.tau-data.com/2019/10/23/2019-tdc/) — using real cases scenario of Traveloka customers. Data used has been altered to match the challenges' requirement; therefore, some insights might not reflect the real world situation. However, some methods used in this analysis might be useful for any real-world analysis that might be conducted in the future.\n",
        "\n",
        "Analysis will be triggered by patterns and characteristics found in Traveloka customers data based on the sample data given — *kindly refer to Data Exploration section for the sample data details* — so analysis with starts with data exploration to find pattern and characteristics, formulating problem statement, and then do deeper analysis on the data to answer the problem statement."
      ]
    },
    {
      "cell_type": "markdown",
      "metadata": {
        "id": "hm5lDHyxryab",
        "colab_type": "text"
      },
      "source": [
        "# 1. DATA EXPLORATION\n",
        "\n",
        "\n",
        "This section covers several processes of data understanding, including: 1) ***extracting data*** from the sources, and 2) ***data preparation*** — removing empty and unnecessary values as well as data schema adjustment.\n",
        "\n"
      ]
    },
    {
      "cell_type": "markdown",
      "metadata": {
        "id": "4HAKeJgm2ffn",
        "colab_type": "text"
      },
      "source": [
        "### 1.1. Data Extraction"
      ]
    },
    {
      "cell_type": "code",
      "metadata": {
        "id": "QoF9Im7zFe0E",
        "colab_type": "code",
        "colab": {}
      },
      "source": [
        "from google.colab import auth\n",
        "from google.cloud import bigquery"
      ],
      "execution_count": 0,
      "outputs": []
    },
    {
      "cell_type": "code",
      "metadata": {
        "id": "6iapfbLE29Tw",
        "colab_type": "code",
        "colab": {
          "base_uri": "https://localhost:8080/",
          "height": 52
        },
        "outputId": "7337cb53-b1c9-4c11-d845-fb3e84c99843"
      },
      "source": [
        "# BIG QUERY AUTHENTICATION — interactively using web browser\n",
        "try:\n",
        "  auth.authenticate_user()\n",
        "  print(\"AUTHENTICATION SUCCEEDED\")\n",
        "except:\n",
        "  print(\"AUTHENTICATION FAILED\")\n",
        "\n",
        "# CONNECT TO PROJECT TO BE USED\n",
        "try:\n",
        "  client = bigquery.Client(project='tvlk-data-mktscience-dev')\n",
        "  print(\"PROJECT CONNECTION SUCCEEDED\")\n",
        "except:\n",
        "  print(\"PROJECT CONNECTION FAILED\")"
      ],
      "execution_count": 3,
      "outputs": [
        {
          "output_type": "stream",
          "text": [
            "AUTHENTICATION SUCCEEDED\n",
            "PROJECT CONNECTION SUCCEEDED\n"
          ],
          "name": "stdout"
        }
      ]
    },
    {
      "cell_type": "markdown",
      "metadata": {
        "id": "HVt6Tau66jrE",
        "colab_type": "text"
      },
      "source": [
        "**Data context #1:**\n",
        "Data is an all time data snapshot — being snapshotted per month. Data must be filtered only from the latest snapshot month."
      ]
    },
    {
      "cell_type": "code",
      "metadata": {
        "id": "18zh4a4s4KPu",
        "colab_type": "code",
        "colab": {
          "base_uri": "https://localhost:8080/",
          "height": 34
        },
        "outputId": "bce522fd-b415-43e1-d764-01fe77dd6a96"
      },
      "source": [
        "# SEARCHING THE LATEST SNAPSHOT MONTH — to be used for filtering on data extraction\n",
        "latest_snapshot_month = client.query(\n",
        "  '''\n",
        "    SELECT \n",
        "      CAST(MAX(snapshot_month) AS STRING) AS date\n",
        "    FROM \n",
        "      `tvlk-data-mktscience-dev.data_challenge.customer_lifecycle`\n",
        "  ''').to_dataframe().date[0]\n",
        "\n",
        "print(\"LATEST SNAPSHOT MONTH: %s\" % latest_snapshot_month)"
      ],
      "execution_count": 7,
      "outputs": [
        {
          "output_type": "stream",
          "text": [
            "LATEST SNAPSHOT MONTH: 2015-12-01\n"
          ],
          "name": "stdout"
        }
      ]
    },
    {
      "cell_type": "code",
      "metadata": {
        "id": "qtRz8gdU948N",
        "colab_type": "code",
        "colab": {}
      },
      "source": [
        "# IMPORTING DATA — analysis to be done in the dataframe\n",
        "tvlk_customers = client.query(\n",
        "    \"\"\"\n",
        "      SELECT\n",
        "        *\n",
        "      FROM\n",
        "        `tvlk-data-mktscience-dev.data_challenge.customer_lifecycle`\n",
        "      WHERE\n",
        "        snapshot_month = \\'%s\\'\n",
        "    \"\"\" % (latest_snapshot_month)).to_dataframe()"
      ],
      "execution_count": 0,
      "outputs": []
    },
    {
      "cell_type": "markdown",
      "metadata": {
        "id": "O6Uu8Rb9DzPD",
        "colab_type": "text"
      },
      "source": [
        "### 1.2. Data Preparation"
      ]
    },
    {
      "cell_type": "code",
      "metadata": {
        "id": "Nko7mPK5A4NW",
        "colab_type": "code",
        "colab": {
          "base_uri": "https://localhost:8080/",
          "height": 781
        },
        "outputId": "08138b24-34f1-426f-8760-f47022197a36"
      },
      "source": [
        "# SHOWING DATA TYPES OF THE DATA\n",
        "tvlk_customers.dtypes"
      ],
      "execution_count": 89,
      "outputs": [
        {
          "output_type": "execute_result",
          "data": {
            "text/plain": [
              "row_num                        int64\n",
              "profile_id                     int64\n",
              "last_ads_id                   object\n",
              "snapshot_month                object\n",
              "churn_cut_off                  int64\n",
              "first_issued_month            object\n",
              "last_issued_month             object\n",
              "lifecycle                     object\n",
              "bucket_gbv_usd_all             int64\n",
              "bucket_issued_1y               int64\n",
              "bucket_visit_1y                int64\n",
              "bucket_search_1y               int64\n",
              "bucket_gbv_1y                  int64\n",
              "bucket_netrev_1y               int64\n",
              "bucket_coupon_1y               int64\n",
              "visit_count_all              float64\n",
              "search_count_all             float64\n",
              "issued_count_all             float64\n",
              "gbv_usd_all                  float64\n",
              "net_revenue_usd_all          float64\n",
              "coupon_usage_usd_all         float64\n",
              "burnt_external_points_all     object\n",
              "burnt_internal_points_all     object\n",
              "earned_points_all             object\n",
              "selling_points_all            object\n",
              "country                       object\n",
              "is_registered                   bool\n",
              "is_subscribed                  int64\n",
              "issued_count                 float64\n",
              "sum_gbv_usd                  float64\n",
              "net_revenue_usd              float64\n",
              "search_count                   int64\n",
              "visit_count                    int64\n",
              "coupon_usage_usd             float64\n",
              "earned_points                 object\n",
              "burnt_internal_points         object\n",
              "burnt_external_points         object\n",
              "selling_points                object\n",
              "is_customer                     bool\n",
              "is_churn                        bool\n",
              "product                       object\n",
              "product_breadth                int64\n",
              "dtype: object"
            ]
          },
          "metadata": {
            "tags": []
          },
          "execution_count": 89
        }
      ]
    },
    {
      "cell_type": "markdown",
      "metadata": {
        "id": "p1Ai0c49DGrY",
        "colab_type": "text"
      },
      "source": [
        "Many of the data types in the tvlk_customers data doesn't match the required ones. This might be because of: \n",
        "\n",
        "*   ***NaN values in the fields*** — causing the data types of numeric columns to be OBJECT instead. NaN values should be filled with zero.\n",
        "*   ***different data format*** — some boolean columns are notated as bool (TRUE/FALSE), some others are notated as integer (1/0). Standardisation for this is required."
      ]
    },
    {
      "cell_type": "code",
      "metadata": {
        "id": "xdhY_GFtGGqf",
        "colab_type": "code",
        "colab": {
          "base_uri": "https://localhost:8080/",
          "height": 176
        },
        "outputId": "0611afe3-0db1-4bb5-a58e-48042aa79b25"
      },
      "source": [
        "# CHANGED NaN VALUES WITH 0\n",
        "columns_to_change = [\"burnt_external_points_all\",\n",
        "                     \"burnt_internal_points_all\",\n",
        "                     \"earned_points_all\",\n",
        "                     \"selling_points_all\",\n",
        "                     \"earned_points\",\n",
        "                     \"burnt_internal_points\",\n",
        "                     \"burnt_external_points\",\n",
        "                     \"selling_points\",\n",
        "                     \"is_subscribed\"\n",
        "                     ]\n",
        "for column in columns_to_change:\n",
        "  tvlk_customers[column].fillna(0, inplace = True)\n",
        "  print(\"FILL NA WITH 0 — %s\" % column)"
      ],
      "execution_count": 90,
      "outputs": [
        {
          "output_type": "stream",
          "text": [
            "FILL NA WITH 0 — burnt_external_points_all\n",
            "FILL NA WITH 0 — burnt_internal_points_all\n",
            "FILL NA WITH 0 — earned_points_all\n",
            "FILL NA WITH 0 — selling_points_all\n",
            "FILL NA WITH 0 — earned_points\n",
            "FILL NA WITH 0 — burnt_internal_points\n",
            "FILL NA WITH 0 — burnt_external_points\n",
            "FILL NA WITH 0 — selling_points\n",
            "FILL NA WITH 0 — is_subscribed\n"
          ],
          "name": "stdout"
        }
      ]
    },
    {
      "cell_type": "code",
      "metadata": {
        "id": "e67WiInMVbE_",
        "colab_type": "code",
        "colab": {}
      },
      "source": [
        "# CHANGED INT TO BOOLEAN\n",
        "tvlk_customers[\"is_subscribed\"].replace({1: True, 0: False}, inplace = True)"
      ],
      "execution_count": 0,
      "outputs": []
    },
    {
      "cell_type": "code",
      "metadata": {
        "id": "wvHeq5d-GspA",
        "colab_type": "code",
        "colab": {
          "base_uri": "https://localhost:8080/",
          "height": 781
        },
        "outputId": "ba76521a-95f7-4644-c067-aa17fe8a3045"
      },
      "source": [
        "# CHECKING DATA TYPE — POST PRE-PROCESSING\n",
        "tvlk_customers.dtypes"
      ],
      "execution_count": 92,
      "outputs": [
        {
          "output_type": "execute_result",
          "data": {
            "text/plain": [
              "row_num                        int64\n",
              "profile_id                     int64\n",
              "last_ads_id                   object\n",
              "snapshot_month                object\n",
              "churn_cut_off                  int64\n",
              "first_issued_month            object\n",
              "last_issued_month             object\n",
              "lifecycle                     object\n",
              "bucket_gbv_usd_all             int64\n",
              "bucket_issued_1y               int64\n",
              "bucket_visit_1y                int64\n",
              "bucket_search_1y               int64\n",
              "bucket_gbv_1y                  int64\n",
              "bucket_netrev_1y               int64\n",
              "bucket_coupon_1y               int64\n",
              "visit_count_all              float64\n",
              "search_count_all             float64\n",
              "issued_count_all             float64\n",
              "gbv_usd_all                  float64\n",
              "net_revenue_usd_all          float64\n",
              "coupon_usage_usd_all         float64\n",
              "burnt_external_points_all      int64\n",
              "burnt_internal_points_all      int64\n",
              "earned_points_all              int64\n",
              "selling_points_all             int64\n",
              "country                       object\n",
              "is_registered                   bool\n",
              "is_subscribed                 object\n",
              "issued_count                 float64\n",
              "sum_gbv_usd                  float64\n",
              "net_revenue_usd              float64\n",
              "search_count                   int64\n",
              "visit_count                    int64\n",
              "coupon_usage_usd             float64\n",
              "earned_points                  int64\n",
              "burnt_internal_points          int64\n",
              "burnt_external_points          int64\n",
              "selling_points                 int64\n",
              "is_customer                     bool\n",
              "is_churn                        bool\n",
              "product                       object\n",
              "product_breadth                int64\n",
              "dtype: object"
            ]
          },
          "metadata": {
            "tags": []
          },
          "execution_count": 92
        }
      ]
    },
    {
      "cell_type": "code",
      "metadata": {
        "id": "1HYgGkE0Frcr",
        "colab_type": "code",
        "colab": {}
      },
      "source": [
        "tvlk_customers.interpolate(inplace = True)"
      ],
      "execution_count": 0,
      "outputs": []
    },
    {
      "cell_type": "code",
      "metadata": {
        "id": "FO29GT0lEGst",
        "colab_type": "code",
        "colab": {
          "base_uri": "https://localhost:8080/",
          "height": 417
        },
        "outputId": "9a82ac13-3bf1-4784-983d-0c319a282eca"
      },
      "source": [
        "# VIEW DATA — POST PROCESSING\n",
        "tvlk_customers.head(10)"
      ],
      "execution_count": 94,
      "outputs": [
        {
          "output_type": "execute_result",
          "data": {
            "text/html": [
              "<div>\n",
              "<style scoped>\n",
              "    .dataframe tbody tr th:only-of-type {\n",
              "        vertical-align: middle;\n",
              "    }\n",
              "\n",
              "    .dataframe tbody tr th {\n",
              "        vertical-align: top;\n",
              "    }\n",
              "\n",
              "    .dataframe thead th {\n",
              "        text-align: right;\n",
              "    }\n",
              "</style>\n",
              "<table border=\"1\" class=\"dataframe\">\n",
              "  <thead>\n",
              "    <tr style=\"text-align: right;\">\n",
              "      <th></th>\n",
              "      <th>row_num</th>\n",
              "      <th>profile_id</th>\n",
              "      <th>last_ads_id</th>\n",
              "      <th>snapshot_month</th>\n",
              "      <th>churn_cut_off</th>\n",
              "      <th>first_issued_month</th>\n",
              "      <th>last_issued_month</th>\n",
              "      <th>lifecycle</th>\n",
              "      <th>bucket_gbv_usd_all</th>\n",
              "      <th>bucket_issued_1y</th>\n",
              "      <th>bucket_visit_1y</th>\n",
              "      <th>bucket_search_1y</th>\n",
              "      <th>bucket_gbv_1y</th>\n",
              "      <th>bucket_netrev_1y</th>\n",
              "      <th>bucket_coupon_1y</th>\n",
              "      <th>visit_count_all</th>\n",
              "      <th>search_count_all</th>\n",
              "      <th>issued_count_all</th>\n",
              "      <th>gbv_usd_all</th>\n",
              "      <th>net_revenue_usd_all</th>\n",
              "      <th>coupon_usage_usd_all</th>\n",
              "      <th>burnt_external_points_all</th>\n",
              "      <th>burnt_internal_points_all</th>\n",
              "      <th>earned_points_all</th>\n",
              "      <th>selling_points_all</th>\n",
              "      <th>country</th>\n",
              "      <th>is_registered</th>\n",
              "      <th>is_subscribed</th>\n",
              "      <th>issued_count</th>\n",
              "      <th>sum_gbv_usd</th>\n",
              "      <th>net_revenue_usd</th>\n",
              "      <th>search_count</th>\n",
              "      <th>visit_count</th>\n",
              "      <th>coupon_usage_usd</th>\n",
              "      <th>earned_points</th>\n",
              "      <th>burnt_internal_points</th>\n",
              "      <th>burnt_external_points</th>\n",
              "      <th>selling_points</th>\n",
              "      <th>is_customer</th>\n",
              "      <th>is_churn</th>\n",
              "      <th>product</th>\n",
              "      <th>product_breadth</th>\n",
              "    </tr>\n",
              "  </thead>\n",
              "  <tbody>\n",
              "    <tr>\n",
              "      <th>0</th>\n",
              "      <td>147551</td>\n",
              "      <td>796929</td>\n",
              "      <td>None</td>\n",
              "      <td>2015-12-01</td>\n",
              "      <td>24</td>\n",
              "      <td>2013-07-01</td>\n",
              "      <td>2013-08-01</td>\n",
              "      <td>09. at risk</td>\n",
              "      <td>1</td>\n",
              "      <td>1</td>\n",
              "      <td>1</td>\n",
              "      <td>1</td>\n",
              "      <td>1</td>\n",
              "      <td>1</td>\n",
              "      <td>5</td>\n",
              "      <td>12.0</td>\n",
              "      <td>12.0</td>\n",
              "      <td>12.0</td>\n",
              "      <td>0.0</td>\n",
              "      <td>0.0</td>\n",
              "      <td>0.0</td>\n",
              "      <td>0</td>\n",
              "      <td>0</td>\n",
              "      <td>0</td>\n",
              "      <td>0</td>\n",
              "      <td>ID</td>\n",
              "      <td>False</td>\n",
              "      <td>False</td>\n",
              "      <td>0.0</td>\n",
              "      <td>0.0</td>\n",
              "      <td>0.0</td>\n",
              "      <td>0</td>\n",
              "      <td>0</td>\n",
              "      <td>0.0</td>\n",
              "      <td>0</td>\n",
              "      <td>0</td>\n",
              "      <td>0</td>\n",
              "      <td>0</td>\n",
              "      <td>True</td>\n",
              "      <td>True</td>\n",
              "      <td>all</td>\n",
              "      <td>1</td>\n",
              "    </tr>\n",
              "    <tr>\n",
              "      <th>1</th>\n",
              "      <td>462257</td>\n",
              "      <td>320465</td>\n",
              "      <td>None</td>\n",
              "      <td>2015-12-01</td>\n",
              "      <td>24</td>\n",
              "      <td>2013-06-01</td>\n",
              "      <td>2013-06-01</td>\n",
              "      <td>09. at risk</td>\n",
              "      <td>1</td>\n",
              "      <td>1</td>\n",
              "      <td>1</td>\n",
              "      <td>1</td>\n",
              "      <td>1</td>\n",
              "      <td>1</td>\n",
              "      <td>5</td>\n",
              "      <td>5.0</td>\n",
              "      <td>5.0</td>\n",
              "      <td>5.0</td>\n",
              "      <td>0.0</td>\n",
              "      <td>0.0</td>\n",
              "      <td>0.0</td>\n",
              "      <td>0</td>\n",
              "      <td>0</td>\n",
              "      <td>0</td>\n",
              "      <td>0</td>\n",
              "      <td>ID</td>\n",
              "      <td>False</td>\n",
              "      <td>False</td>\n",
              "      <td>0.0</td>\n",
              "      <td>0.0</td>\n",
              "      <td>0.0</td>\n",
              "      <td>0</td>\n",
              "      <td>0</td>\n",
              "      <td>0.0</td>\n",
              "      <td>0</td>\n",
              "      <td>0</td>\n",
              "      <td>0</td>\n",
              "      <td>0</td>\n",
              "      <td>True</td>\n",
              "      <td>True</td>\n",
              "      <td>all</td>\n",
              "      <td>1</td>\n",
              "    </tr>\n",
              "    <tr>\n",
              "      <th>2</th>\n",
              "      <td>1021708</td>\n",
              "      <td>359569</td>\n",
              "      <td>None</td>\n",
              "      <td>2015-12-01</td>\n",
              "      <td>24</td>\n",
              "      <td>2013-06-01</td>\n",
              "      <td>2013-08-01</td>\n",
              "      <td>09. at risk</td>\n",
              "      <td>1</td>\n",
              "      <td>1</td>\n",
              "      <td>1</td>\n",
              "      <td>1</td>\n",
              "      <td>1</td>\n",
              "      <td>1</td>\n",
              "      <td>5</td>\n",
              "      <td>5.0</td>\n",
              "      <td>5.0</td>\n",
              "      <td>5.0</td>\n",
              "      <td>0.0</td>\n",
              "      <td>0.0</td>\n",
              "      <td>0.0</td>\n",
              "      <td>0</td>\n",
              "      <td>0</td>\n",
              "      <td>0</td>\n",
              "      <td>0</td>\n",
              "      <td>ID</td>\n",
              "      <td>False</td>\n",
              "      <td>False</td>\n",
              "      <td>0.0</td>\n",
              "      <td>0.0</td>\n",
              "      <td>0.0</td>\n",
              "      <td>0</td>\n",
              "      <td>0</td>\n",
              "      <td>0.0</td>\n",
              "      <td>0</td>\n",
              "      <td>0</td>\n",
              "      <td>0</td>\n",
              "      <td>0</td>\n",
              "      <td>True</td>\n",
              "      <td>True</td>\n",
              "      <td>all</td>\n",
              "      <td>1</td>\n",
              "    </tr>\n",
              "    <tr>\n",
              "      <th>3</th>\n",
              "      <td>1368922</td>\n",
              "      <td>481681</td>\n",
              "      <td>None</td>\n",
              "      <td>2015-12-01</td>\n",
              "      <td>24</td>\n",
              "      <td>2013-06-01</td>\n",
              "      <td>2013-06-01</td>\n",
              "      <td>09. at risk</td>\n",
              "      <td>1</td>\n",
              "      <td>1</td>\n",
              "      <td>1</td>\n",
              "      <td>2</td>\n",
              "      <td>1</td>\n",
              "      <td>1</td>\n",
              "      <td>5</td>\n",
              "      <td>4.0</td>\n",
              "      <td>8.0</td>\n",
              "      <td>4.0</td>\n",
              "      <td>0.0</td>\n",
              "      <td>0.0</td>\n",
              "      <td>0.0</td>\n",
              "      <td>0</td>\n",
              "      <td>0</td>\n",
              "      <td>0</td>\n",
              "      <td>0</td>\n",
              "      <td>ID</td>\n",
              "      <td>False</td>\n",
              "      <td>True</td>\n",
              "      <td>0.0</td>\n",
              "      <td>0.0</td>\n",
              "      <td>0.0</td>\n",
              "      <td>2</td>\n",
              "      <td>1</td>\n",
              "      <td>0.0</td>\n",
              "      <td>0</td>\n",
              "      <td>0</td>\n",
              "      <td>0</td>\n",
              "      <td>0</td>\n",
              "      <td>True</td>\n",
              "      <td>True</td>\n",
              "      <td>all</td>\n",
              "      <td>1</td>\n",
              "    </tr>\n",
              "    <tr>\n",
              "      <th>4</th>\n",
              "      <td>124127</td>\n",
              "      <td>186377</td>\n",
              "      <td>None</td>\n",
              "      <td>2015-12-01</td>\n",
              "      <td>24</td>\n",
              "      <td>2013-05-01</td>\n",
              "      <td>2013-05-01</td>\n",
              "      <td>09. at risk</td>\n",
              "      <td>1</td>\n",
              "      <td>1</td>\n",
              "      <td>1</td>\n",
              "      <td>1</td>\n",
              "      <td>1</td>\n",
              "      <td>1</td>\n",
              "      <td>5</td>\n",
              "      <td>4.0</td>\n",
              "      <td>4.0</td>\n",
              "      <td>4.0</td>\n",
              "      <td>0.0</td>\n",
              "      <td>0.0</td>\n",
              "      <td>0.0</td>\n",
              "      <td>0</td>\n",
              "      <td>0</td>\n",
              "      <td>0</td>\n",
              "      <td>0</td>\n",
              "      <td>ID</td>\n",
              "      <td>False</td>\n",
              "      <td>False</td>\n",
              "      <td>0.0</td>\n",
              "      <td>0.0</td>\n",
              "      <td>0.0</td>\n",
              "      <td>0</td>\n",
              "      <td>0</td>\n",
              "      <td>0.0</td>\n",
              "      <td>0</td>\n",
              "      <td>0</td>\n",
              "      <td>0</td>\n",
              "      <td>0</td>\n",
              "      <td>True</td>\n",
              "      <td>True</td>\n",
              "      <td>all</td>\n",
              "      <td>1</td>\n",
              "    </tr>\n",
              "    <tr>\n",
              "      <th>5</th>\n",
              "      <td>254226</td>\n",
              "      <td>497377</td>\n",
              "      <td>None</td>\n",
              "      <td>2015-12-01</td>\n",
              "      <td>24</td>\n",
              "      <td>2013-06-01</td>\n",
              "      <td>2013-08-01</td>\n",
              "      <td>09. at risk</td>\n",
              "      <td>1</td>\n",
              "      <td>1</td>\n",
              "      <td>1</td>\n",
              "      <td>1</td>\n",
              "      <td>1</td>\n",
              "      <td>1</td>\n",
              "      <td>5</td>\n",
              "      <td>10.0</td>\n",
              "      <td>10.0</td>\n",
              "      <td>10.0</td>\n",
              "      <td>0.0</td>\n",
              "      <td>0.0</td>\n",
              "      <td>0.0</td>\n",
              "      <td>0</td>\n",
              "      <td>0</td>\n",
              "      <td>0</td>\n",
              "      <td>0</td>\n",
              "      <td>ID</td>\n",
              "      <td>False</td>\n",
              "      <td>False</td>\n",
              "      <td>0.0</td>\n",
              "      <td>0.0</td>\n",
              "      <td>0.0</td>\n",
              "      <td>0</td>\n",
              "      <td>0</td>\n",
              "      <td>0.0</td>\n",
              "      <td>0</td>\n",
              "      <td>0</td>\n",
              "      <td>0</td>\n",
              "      <td>0</td>\n",
              "      <td>True</td>\n",
              "      <td>True</td>\n",
              "      <td>all</td>\n",
              "      <td>1</td>\n",
              "    </tr>\n",
              "    <tr>\n",
              "      <th>6</th>\n",
              "      <td>271805</td>\n",
              "      <td>355465</td>\n",
              "      <td>None</td>\n",
              "      <td>2015-12-01</td>\n",
              "      <td>24</td>\n",
              "      <td>2013-06-01</td>\n",
              "      <td>2013-06-01</td>\n",
              "      <td>09. at risk</td>\n",
              "      <td>1</td>\n",
              "      <td>1</td>\n",
              "      <td>1</td>\n",
              "      <td>1</td>\n",
              "      <td>1</td>\n",
              "      <td>1</td>\n",
              "      <td>5</td>\n",
              "      <td>4.0</td>\n",
              "      <td>4.0</td>\n",
              "      <td>4.0</td>\n",
              "      <td>0.0</td>\n",
              "      <td>0.0</td>\n",
              "      <td>0.0</td>\n",
              "      <td>0</td>\n",
              "      <td>0</td>\n",
              "      <td>0</td>\n",
              "      <td>0</td>\n",
              "      <td>ID</td>\n",
              "      <td>False</td>\n",
              "      <td>False</td>\n",
              "      <td>0.0</td>\n",
              "      <td>0.0</td>\n",
              "      <td>0.0</td>\n",
              "      <td>0</td>\n",
              "      <td>0</td>\n",
              "      <td>0.0</td>\n",
              "      <td>0</td>\n",
              "      <td>0</td>\n",
              "      <td>0</td>\n",
              "      <td>0</td>\n",
              "      <td>True</td>\n",
              "      <td>True</td>\n",
              "      <td>all</td>\n",
              "      <td>1</td>\n",
              "    </tr>\n",
              "    <tr>\n",
              "      <th>7</th>\n",
              "      <td>824814</td>\n",
              "      <td>156321</td>\n",
              "      <td>None</td>\n",
              "      <td>2015-12-01</td>\n",
              "      <td>24</td>\n",
              "      <td>2013-05-01</td>\n",
              "      <td>2013-08-01</td>\n",
              "      <td>11. hibernating</td>\n",
              "      <td>1</td>\n",
              "      <td>1</td>\n",
              "      <td>1</td>\n",
              "      <td>1</td>\n",
              "      <td>1</td>\n",
              "      <td>1</td>\n",
              "      <td>5</td>\n",
              "      <td>3.0</td>\n",
              "      <td>3.0</td>\n",
              "      <td>3.0</td>\n",
              "      <td>0.0</td>\n",
              "      <td>0.0</td>\n",
              "      <td>0.0</td>\n",
              "      <td>0</td>\n",
              "      <td>0</td>\n",
              "      <td>0</td>\n",
              "      <td>0</td>\n",
              "      <td>ID</td>\n",
              "      <td>False</td>\n",
              "      <td>True</td>\n",
              "      <td>0.0</td>\n",
              "      <td>0.0</td>\n",
              "      <td>0.0</td>\n",
              "      <td>0</td>\n",
              "      <td>0</td>\n",
              "      <td>0.0</td>\n",
              "      <td>0</td>\n",
              "      <td>0</td>\n",
              "      <td>0</td>\n",
              "      <td>0</td>\n",
              "      <td>True</td>\n",
              "      <td>True</td>\n",
              "      <td>all</td>\n",
              "      <td>1</td>\n",
              "    </tr>\n",
              "    <tr>\n",
              "      <th>8</th>\n",
              "      <td>1181019</td>\n",
              "      <td>279241</td>\n",
              "      <td>None</td>\n",
              "      <td>2015-12-01</td>\n",
              "      <td>24</td>\n",
              "      <td>2013-08-01</td>\n",
              "      <td>2013-08-01</td>\n",
              "      <td>11. hibernating</td>\n",
              "      <td>1</td>\n",
              "      <td>1</td>\n",
              "      <td>1</td>\n",
              "      <td>1</td>\n",
              "      <td>1</td>\n",
              "      <td>1</td>\n",
              "      <td>5</td>\n",
              "      <td>3.0</td>\n",
              "      <td>3.0</td>\n",
              "      <td>3.0</td>\n",
              "      <td>0.0</td>\n",
              "      <td>0.0</td>\n",
              "      <td>0.0</td>\n",
              "      <td>0</td>\n",
              "      <td>0</td>\n",
              "      <td>0</td>\n",
              "      <td>0</td>\n",
              "      <td>ID</td>\n",
              "      <td>False</td>\n",
              "      <td>False</td>\n",
              "      <td>0.0</td>\n",
              "      <td>0.0</td>\n",
              "      <td>0.0</td>\n",
              "      <td>0</td>\n",
              "      <td>0</td>\n",
              "      <td>0.0</td>\n",
              "      <td>0</td>\n",
              "      <td>0</td>\n",
              "      <td>0</td>\n",
              "      <td>0</td>\n",
              "      <td>True</td>\n",
              "      <td>True</td>\n",
              "      <td>all</td>\n",
              "      <td>1</td>\n",
              "    </tr>\n",
              "    <tr>\n",
              "      <th>9</th>\n",
              "      <td>1221682</td>\n",
              "      <td>421881</td>\n",
              "      <td>None</td>\n",
              "      <td>2015-12-01</td>\n",
              "      <td>24</td>\n",
              "      <td>2013-06-01</td>\n",
              "      <td>2013-06-01</td>\n",
              "      <td>11. hibernating</td>\n",
              "      <td>1</td>\n",
              "      <td>1</td>\n",
              "      <td>1</td>\n",
              "      <td>1</td>\n",
              "      <td>1</td>\n",
              "      <td>1</td>\n",
              "      <td>5</td>\n",
              "      <td>3.0</td>\n",
              "      <td>3.0</td>\n",
              "      <td>3.0</td>\n",
              "      <td>0.0</td>\n",
              "      <td>0.0</td>\n",
              "      <td>0.0</td>\n",
              "      <td>0</td>\n",
              "      <td>0</td>\n",
              "      <td>0</td>\n",
              "      <td>0</td>\n",
              "      <td>ID</td>\n",
              "      <td>False</td>\n",
              "      <td>False</td>\n",
              "      <td>0.0</td>\n",
              "      <td>0.0</td>\n",
              "      <td>0.0</td>\n",
              "      <td>0</td>\n",
              "      <td>0</td>\n",
              "      <td>0.0</td>\n",
              "      <td>0</td>\n",
              "      <td>0</td>\n",
              "      <td>0</td>\n",
              "      <td>0</td>\n",
              "      <td>True</td>\n",
              "      <td>True</td>\n",
              "      <td>all</td>\n",
              "      <td>1</td>\n",
              "    </tr>\n",
              "  </tbody>\n",
              "</table>\n",
              "</div>"
            ],
            "text/plain": [
              "   row_num  profile_id last_ads_id  ... is_churn  product product_breadth\n",
              "0   147551      796929        None  ...     True      all               1\n",
              "1   462257      320465        None  ...     True      all               1\n",
              "2  1021708      359569        None  ...     True      all               1\n",
              "3  1368922      481681        None  ...     True      all               1\n",
              "4   124127      186377        None  ...     True      all               1\n",
              "5   254226      497377        None  ...     True      all               1\n",
              "6   271805      355465        None  ...     True      all               1\n",
              "7   824814      156321        None  ...     True      all               1\n",
              "8  1181019      279241        None  ...     True      all               1\n",
              "9  1221682      421881        None  ...     True      all               1\n",
              "\n",
              "[10 rows x 42 columns]"
            ]
          },
          "metadata": {
            "tags": []
          },
          "execution_count": 94
        }
      ]
    },
    {
      "cell_type": "markdown",
      "metadata": {
        "id": "bnNCn6uSAJD5",
        "colab_type": "text"
      },
      "source": [
        "# 2. ANALYSIS\n",
        "\n",
        "\n",
        "This section covers several processes of analysis including 1) **hypothesis**, 2) **data pattern/characteristics exploration** to prove hypothesis. \n"
      ]
    },
    {
      "cell_type": "markdown",
      "metadata": {
        "id": "5nN93p-n2a2z",
        "colab_type": "text"
      },
      "source": [
        "## 2.1. Problem Statement & Hypothesis"
      ]
    },
    {
      "cell_type": "markdown",
      "metadata": {
        "id": "6bhQeuaiA0H8",
        "colab_type": "text"
      },
      "source": [
        "### 2.1.1. Problem Statement \n",
        "\n",
        "One of the holy grail of customer relationship management is that ***it is a lot more expensive to acquire new customers than retaining existing one*** — meaning it is important to prevent existing customers to churn. Then the question is **how we can prevent Traveloka customers from churning?**"
      ]
    },
    {
      "cell_type": "markdown",
      "metadata": {
        "id": "WQmXu4bV7Vj5",
        "colab_type": "text"
      },
      "source": [
        "### 2.1.2. Hypothesis\n",
        "\n",
        "The hypothesis is that **there are distinct characteristics that can differentiate churn customer to other customers**. Knowing these characteristics gives the business enough knowledge to treat customers that match these characteristics to prevent them to churn in the future — making business decisions like marketing and feature development more effective.\n",
        "\n",
        "Approach to prove the hypothesis:\n",
        "\n",
        "\n",
        "*   Find the **data distribution** of few important metrics over the two groups.\n",
        "*   Find differences between the two groups on the **customer lifecycle** side.\n",
        "*italicized text*\n"
      ]
    },
    {
      "cell_type": "markdown",
      "metadata": {
        "id": "4mTNBN5vG0W3",
        "colab_type": "text"
      },
      "source": [
        "## 2.2. Distribution Analysis"
      ]
    },
    {
      "cell_type": "markdown",
      "metadata": {
        "id": "hYqgAfrALTNY",
        "colab_type": "text"
      },
      "source": [
        "Below are the distribution comparison between churn customer and not churn customer by how much activity and transaction (including the value of it like GBV, Revenue, and coupon being used) over all time."
      ]
    },
    {
      "cell_type": "markdown",
      "metadata": {
        "id": "1cSx9-WhNpNa",
        "colab_type": "text"
      },
      "source": [
        "### ANALYSIS 1: Comparing all time activities between churn and non-churn customers\n",
        "\n",
        "\n",
        "---\n",
        "\n"
      ]
    },
    {
      "cell_type": "code",
      "metadata": {
        "id": "8QViFssI9w_A",
        "colab_type": "code",
        "colab": {
          "base_uri": "https://localhost:8080/",
          "height": 1000
        },
        "outputId": "0f973036-9f3f-4f85-b57b-51066e62afe7"
      },
      "source": [
        "for metrics in [\"visit_count_all\",\n",
        "                \"search_count_all\",\n",
        "                \"issued_count_all\",\n",
        "                \"gbv_usd_all\",\n",
        "                \"net_revenue_usd_all\",\n",
        "                \"coupon_usage_usd_all\"]:\n",
        "  sns.catplot(x=\"is_churn\", y=metrics, data=tvlk_customers[['is_churn', metrics]])"
      ],
      "execution_count": 95,
      "outputs": [
        {
          "output_type": "display_data",
          "data": {
            "image/png": "[encoded data removed]",
            "text/plain": [
              "<Figure size 360x360 with 1 Axes>"
            ]
          },
          "metadata": {
            "tags": []
          }
        },
        {
          "output_type": "display_data",
          "data": {
            "image/png": "[encoded data removed]",
            "text/plain": [
              "<Figure size 360x360 with 1 Axes>"
            ]
          },
          "metadata": {
            "tags": []
          }
        },
        {
          "output_type": "display_data",
          "data": {
            "image/png": "[encoded data removed]",
            "text/plain": [
              "<Figure size 360x360 with 1 Axes>"
            ]
          },
          "metadata": {
            "tags": []
          }
        },
        {
          "output_type": "display_data",
          "data": {
            "image/png": "[encoded data removed]",
            "text/plain": [
              "<Figure size 360x360 with 1 Axes>"
            ]
          },
          "metadata": {
            "tags": []
          }
        },
        {
          "output_type": "display_data",
          "data": {
            "image/png": "[encoded data removed]",
            "text/plain": [
              "<Figure size 360x360 with 1 Axes>"
            ]
          },
          "metadata": {
            "tags": []
          }
        },
        {
          "output_type": "display_data",
          "data": {
            "image/png": "[encoded data removed]",
            "text/plain": [
              "<Figure size 360x360 with 1 Axes>"
            ]
          },
          "metadata": {
            "tags": []
          }
        }
      ]
    },
    {
      "cell_type": "markdown",
      "metadata": {
        "id": "IWibPa-4MsSD",
        "colab_type": "text"
      },
      "source": [
        "The distribution plot doesn't show any significant differences — only that distribution covers wider range of values for the non-churn customers — meaning ***customers with extreme logs of activities (significant high number of visit and transaction) is less likely to churn.***\n",
        "\n",
        "Next analysis:\n",
        "*   Split the distribution based on other attributes — e.g. lifecycle, country, etc.\n",
        "*   Analyse distribution on current month's activities & transaction.co"
      ]
    },
    {
      "cell_type": "markdown",
      "metadata": {
        "id": "X17zcNGmOSq0",
        "colab_type": "text"
      },
      "source": [
        "### ANALYSIS 2: Splitting ANALYSIS 1 with Additional Dimensions\n",
        "\n",
        "\n",
        "---\n",
        "\n"
      ]
    },
    {
      "cell_type": "code",
      "metadata": {
        "id": "KXMPoIiMObVJ",
        "colab_type": "code",
        "colab": {
          "base_uri": "https://localhost:8080/",
          "height": 752
        },
        "outputId": "8d66f603-f88c-4158-9fdd-2f163747cf02"
      },
      "source": [
        "# SPLITTING WITH DIMENSION LIFECYCLE\n",
        "sns.catplot(y=\"lifecycle\", hue='is_churn', kind='count', data=tvlk_customers[['is_churn', 'lifecycle', 'profile_id']])\n",
        "sns.catplot(x=\"is_churn\", hue='country', kind='count', data=tvlk_customers[['is_churn', 'country', 'profile_id']])"
      ],
      "execution_count": 96,
      "outputs": [
        {
          "output_type": "execute_result",
          "data": {
            "text/plain": [
              "<seaborn.axisgrid.FacetGrid at 0x7f771de45910>"
            ]
          },
          "metadata": {
            "tags": []
          },
          "execution_count": 96
        },
        {
          "output_type": "display_data",
          "data": {
            "image/png": "[encoded data removed]",
            "text/plain": [
              "<Figure size 422.125x360 with 1 Axes>"
            ]
          },
          "metadata": {
            "tags": []
          }
        },
        {
          "output_type": "display_data",
          "data": {
            "image/png": "[encoded data removed]",
            "text/plain": [
              "<Figure size 410.625x360 with 1 Axes>"
            ]
          },
          "metadata": {
            "tags": []
          }
        }
      ]
    },
    {
      "cell_type": "markdown",
      "metadata": {
        "id": "l9mcpfgfSfPp",
        "colab_type": "text"
      },
      "source": [
        "\n",
        "\n",
        "*   Deeper analysis with **lifecycle** shows that churn customer only comes from certain lifecycle — that is *at risk*, *hibernating*, and *lost/lapsed/churn* (these lifecycle groups only contains churned customers). Some from *about to sleep* customers also churned. These lifecycle can be a good sign of churn customer — specific treatment should be given to customers in these groups to prevent them to churn in the future.\n",
        "*   No significant insights from **country** analysis.\n",
        "\n"
      ]
    },
    {
      "cell_type": "markdown",
      "metadata": {
        "id": "GkKMmJ_LQ8vj",
        "colab_type": "text"
      },
      "source": [
        "### ANALYSIS 3: Analysing Distribution of Current Month Activities & Transaction\n",
        "\n",
        "\n",
        "---\n",
        "\n"
      ]
    },
    {
      "cell_type": "code",
      "metadata": {
        "id": "C-UZiMtRTcia",
        "colab_type": "code",
        "colab": {
          "base_uri": "https://localhost:8080/",
          "height": 1000
        },
        "outputId": "b1b0af21-bb85-4000-8692-be572e486c8b"
      },
      "source": [
        "for metrics in [\"visit_count\",\n",
        "                \"search_count\",\n",
        "                \"issued_count\",\n",
        "                \"sum_gbv_usd\",\n",
        "                \"net_revenue_usd\",\n",
        "                \"coupon_usage_usd\"]:\n",
        "  sns.catplot(x=\"is_churn\", y=metrics, data=tvlk_customers[['is_churn', metrics]])"
      ],
      "execution_count": 98,
      "outputs": [
        {
          "output_type": "display_data",
          "data": {
            "image/png": "[encoded data removed]",
            "text/plain": [
              "<Figure size 360x360 with 1 Axes>"
            ]
          },
          "metadata": {
            "tags": []
          }
        },
        {
          "output_type": "display_data",
          "data": {
            "image/png": "[encoded data removed]",
            "text/plain": [
              "<Figure size 360x360 with 1 Axes>"
            ]
          },
          "metadata": {
            "tags": []
          }
        },
        {
          "output_type": "display_data",
          "data": {
            "image/png": "[encoded data removed]",
            "text/plain": [
              "<Figure size 360x360 with 1 Axes>"
            ]
          },
          "metadata": {
            "tags": []
          }
        },
        {
          "output_type": "display_data",
          "data": {
            "image/png": "[encoded data removed]",
            "text/plain": [
              "<Figure size 360x360 with 1 Axes>"
            ]
          },
          "metadata": {
            "tags": []
          }
        },
        {
          "output_type": "display_data",
          "data": {
            "image/png": "[encoded data removed]",
            "text/plain": [
              "<Figure size 360x360 with 1 Axes>"
            ]
          },
          "metadata": {
            "tags": []
          }
        },
        {
          "output_type": "display_data",
          "data": {
            "image/png": "[encoded data removed]",
            "text/plain": [
              "<Figure size 360x360 with 1 Axes>"
            ]
          },
          "metadata": {
            "tags": []
          }
        }
      ]
    },
    {
      "cell_type": "markdown",
      "metadata": {
        "id": "3KAdYVRhTxM7",
        "colab_type": "text"
      },
      "source": [
        "Churn customer don't issue or do transaction at the current month — this might be a good indicator of churn customer. Further analysis of issued and visit trend might be useful."
      ]
    },
    {
      "cell_type": "code",
      "metadata": {
        "id": "pTcZgifwrSA4",
        "colab_type": "code",
        "colab": {}
      },
      "source": [
        "%%bigquery --project tvlk-data-mktscience-dev trend_data\n",
        "SELECT \n",
        "    CAST(snapshot_month AS DATE) AS month,\n",
        "    AVG(visit_count) avg_visit,\n",
        "    AVG(issued_count) avg_issued\n",
        "FROM \n",
        "    `tvlk-data-mktscience-dev.data_challenge.customer_lifecycle` AS all_customers\n",
        "    INNER JOIN (SELECT profile_id FROM `tvlk-data-mktscience-dev.data_challenge.customer_lifecycle` WHERE snapshot_month = '2015-12-01' AND is_churn = TRUE) AS churn_customers\n",
        "    ON all_customers.profile_id = churn_customers.profile_id\n",
        "GROUP BY  \n",
        "    1\n",
        "ORDER BY\n",
        "    1"
      ],
      "execution_count": 0,
      "outputs": []
    },
    {
      "cell_type": "code",
      "metadata": {
        "id": "3z0kY8fAuEVt",
        "colab_type": "code",
        "colab": {}
      },
      "source": [
        "import matplotlib.pyplot as plt\n",
        "import pandas as pd"
      ],
      "execution_count": 0,
      "outputs": []
    },
    {
      "cell_type": "code",
      "metadata": {
        "id": "qburDG_1tzU0",
        "colab_type": "code",
        "colab": {
          "base_uri": "https://localhost:8080/",
          "height": 626
        },
        "outputId": "90e713dc-7917-4747-dd26-1f679a86c913"
      },
      "source": [
        "trend_data.plot(figsize=(20,10), linewidth=5, fontsize=20)\n",
        "plt.xlabel('Delta Month', fontsize=20);"
      ],
      "execution_count": 43,
      "outputs": [
        {
          "output_type": "display_data",
          "data": {
            "image/png": "[encoded data removed]",
            "text/plain": [
              "<Figure size 1440x720 with 1 Axes>"
            ]
          },
          "metadata": {
            "tags": []
          }
        }
      ]
    },
    {
      "cell_type": "markdown",
      "metadata": {
        "id": "C9OkLQY2wQew",
        "colab_type": "text"
      },
      "source": [
        "Issuance trend turn to zero for several month — for customer who is churn by 2015-12-01. Customers who isn't purchasing might be a good indicator of a potential churn."
      ]
    },
    {
      "cell_type": "markdown",
      "metadata": {
        "id": "4CdHieEa6KkJ",
        "colab_type": "text"
      },
      "source": [
        "# 3. CONCLUSION & RECOMMENDATION"
      ]
    },
    {
      "cell_type": "markdown",
      "metadata": {
        "id": "HsgaPG856PPf",
        "colab_type": "text"
      },
      "source": [
        "### 3.1. Conclusion\n",
        "\n",
        "There are several characteristics that can differentiate churn customer. Few of them, caught on this analysis, include following points.\n",
        "*   Customers who has significantly high visits, search, and transaction (compared to the whole population of customer) are less likely to churn — might want to exclude these type of customers from churn analysis.\n",
        "*   Customers who are classified as *at risk*, *hibernating*, and *lost/lapsed/churn* have high potential to churn.\n",
        "*   Customers who isn't issuing for a while might be churning — need further discussion on how long is for a while."
      ]
    },
    {
      "cell_type": "markdown",
      "metadata": {
        "id": "wqwQpURq7net",
        "colab_type": "text"
      },
      "source": [
        "### 3.2. Recommendation\n",
        "\n",
        "*   Put special treatment (PN/NL/Coupon Promotion) to people in risk, hibernating, and lost/lapsed/churn customer segments to prevent them from churning in the future.\n",
        "*   Put also special treatment in customer who isn't issuing (in a month — for starter).\n",
        "\n"
      ]
    },
    {
      "cell_type": "markdown",
      "metadata": {
        "id": "LSBmYYGs-Oq4",
        "colab_type": "text"
      },
      "source": [
        "# APPENDIX (drafts/useful code)"
      ]
    },
    {
      "cell_type": "code",
      "metadata": {
        "id": "fWA3JxG52hMI",
        "colab_type": "code",
        "colab": {
          "base_uri": "https://localhost:8080/",
          "height": 417
        },
        "outputId": "6bdeaf32-6252-4c14-ed5b-f47f8e6392d5"
      },
      "source": [
        "tvlk_customers.head(10)"
      ],
      "execution_count": 19,
      "outputs": [
        {
          "output_type": "execute_result",
          "data": {
            "text/html": [
              "<div>\n",
              "<style scoped>\n",
              "    .dataframe tbody tr th:only-of-type {\n",
              "        vertical-align: middle;\n",
              "    }\n",
              "\n",
              "    .dataframe tbody tr th {\n",
              "        vertical-align: top;\n",
              "    }\n",
              "\n",
              "    .dataframe thead th {\n",
              "        text-align: right;\n",
              "    }\n",
              "</style>\n",
              "<table border=\"1\" class=\"dataframe\">\n",
              "  <thead>\n",
              "    <tr style=\"text-align: right;\">\n",
              "      <th></th>\n",
              "      <th>row_num</th>\n",
              "      <th>profile_id</th>\n",
              "      <th>last_ads_id</th>\n",
              "      <th>snapshot_month</th>\n",
              "      <th>churn_cut_off</th>\n",
              "      <th>first_issued_month</th>\n",
              "      <th>last_issued_month</th>\n",
              "      <th>lifecycle</th>\n",
              "      <th>bucket_gbv_usd_all</th>\n",
              "      <th>bucket_issued_1y</th>\n",
              "      <th>bucket_visit_1y</th>\n",
              "      <th>bucket_search_1y</th>\n",
              "      <th>bucket_gbv_1y</th>\n",
              "      <th>bucket_netrev_1y</th>\n",
              "      <th>bucket_coupon_1y</th>\n",
              "      <th>visit_count_all</th>\n",
              "      <th>search_count_all</th>\n",
              "      <th>issued_count_all</th>\n",
              "      <th>gbv_usd_all</th>\n",
              "      <th>net_revenue_usd_all</th>\n",
              "      <th>coupon_usage_usd_all</th>\n",
              "      <th>burnt_external_points_all</th>\n",
              "      <th>burnt_internal_points_all</th>\n",
              "      <th>earned_points_all</th>\n",
              "      <th>selling_points_all</th>\n",
              "      <th>country</th>\n",
              "      <th>is_registered</th>\n",
              "      <th>is_subscribed</th>\n",
              "      <th>issued_count</th>\n",
              "      <th>sum_gbv_usd</th>\n",
              "      <th>net_revenue_usd</th>\n",
              "      <th>search_count</th>\n",
              "      <th>visit_count</th>\n",
              "      <th>coupon_usage_usd</th>\n",
              "      <th>earned_points</th>\n",
              "      <th>burnt_internal_points</th>\n",
              "      <th>burnt_external_points</th>\n",
              "      <th>selling_points</th>\n",
              "      <th>is_customer</th>\n",
              "      <th>is_churn</th>\n",
              "      <th>product</th>\n",
              "      <th>product_breadth</th>\n",
              "    </tr>\n",
              "  </thead>\n",
              "  <tbody>\n",
              "    <tr>\n",
              "      <th>0</th>\n",
              "      <td>147551</td>\n",
              "      <td>796929</td>\n",
              "      <td>None</td>\n",
              "      <td>2015-12-01</td>\n",
              "      <td>24</td>\n",
              "      <td>2013-07-01</td>\n",
              "      <td>2013-08-01</td>\n",
              "      <td>09. at risk</td>\n",
              "      <td>1</td>\n",
              "      <td>1</td>\n",
              "      <td>1</td>\n",
              "      <td>1</td>\n",
              "      <td>1</td>\n",
              "      <td>1</td>\n",
              "      <td>5</td>\n",
              "      <td>12.0</td>\n",
              "      <td>12.0</td>\n",
              "      <td>12.0</td>\n",
              "      <td>0.0</td>\n",
              "      <td>0.0</td>\n",
              "      <td>0.0</td>\n",
              "      <td>0</td>\n",
              "      <td>0</td>\n",
              "      <td>0</td>\n",
              "      <td>0</td>\n",
              "      <td>ID</td>\n",
              "      <td>False</td>\n",
              "      <td>False</td>\n",
              "      <td>0.0</td>\n",
              "      <td>0.0</td>\n",
              "      <td>0.0</td>\n",
              "      <td>0</td>\n",
              "      <td>0</td>\n",
              "      <td>0.0</td>\n",
              "      <td>0</td>\n",
              "      <td>0</td>\n",
              "      <td>0</td>\n",
              "      <td>0</td>\n",
              "      <td>True</td>\n",
              "      <td>True</td>\n",
              "      <td>all</td>\n",
              "      <td>1</td>\n",
              "    </tr>\n",
              "    <tr>\n",
              "      <th>1</th>\n",
              "      <td>462257</td>\n",
              "      <td>320465</td>\n",
              "      <td>None</td>\n",
              "      <td>2015-12-01</td>\n",
              "      <td>24</td>\n",
              "      <td>2013-06-01</td>\n",
              "      <td>2013-06-01</td>\n",
              "      <td>09. at risk</td>\n",
              "      <td>1</td>\n",
              "      <td>1</td>\n",
              "      <td>1</td>\n",
              "      <td>1</td>\n",
              "      <td>1</td>\n",
              "      <td>1</td>\n",
              "      <td>5</td>\n",
              "      <td>5.0</td>\n",
              "      <td>5.0</td>\n",
              "      <td>5.0</td>\n",
              "      <td>0.0</td>\n",
              "      <td>0.0</td>\n",
              "      <td>0.0</td>\n",
              "      <td>0</td>\n",
              "      <td>0</td>\n",
              "      <td>0</td>\n",
              "      <td>0</td>\n",
              "      <td>ID</td>\n",
              "      <td>False</td>\n",
              "      <td>False</td>\n",
              "      <td>0.0</td>\n",
              "      <td>0.0</td>\n",
              "      <td>0.0</td>\n",
              "      <td>0</td>\n",
              "      <td>0</td>\n",
              "      <td>0.0</td>\n",
              "      <td>0</td>\n",
              "      <td>0</td>\n",
              "      <td>0</td>\n",
              "      <td>0</td>\n",
              "      <td>True</td>\n",
              "      <td>True</td>\n",
              "      <td>all</td>\n",
              "      <td>1</td>\n",
              "    </tr>\n",
              "    <tr>\n",
              "      <th>2</th>\n",
              "      <td>1021708</td>\n",
              "      <td>359569</td>\n",
              "      <td>None</td>\n",
              "      <td>2015-12-01</td>\n",
              "      <td>24</td>\n",
              "      <td>2013-06-01</td>\n",
              "      <td>2013-08-01</td>\n",
              "      <td>09. at risk</td>\n",
              "      <td>1</td>\n",
              "      <td>1</td>\n",
              "      <td>1</td>\n",
              "      <td>1</td>\n",
              "      <td>1</td>\n",
              "      <td>1</td>\n",
              "      <td>5</td>\n",
              "      <td>5.0</td>\n",
              "      <td>5.0</td>\n",
              "      <td>5.0</td>\n",
              "      <td>0.0</td>\n",
              "      <td>0.0</td>\n",
              "      <td>0.0</td>\n",
              "      <td>0</td>\n",
              "      <td>0</td>\n",
              "      <td>0</td>\n",
              "      <td>0</td>\n",
              "      <td>ID</td>\n",
              "      <td>False</td>\n",
              "      <td>False</td>\n",
              "      <td>0.0</td>\n",
              "      <td>0.0</td>\n",
              "      <td>0.0</td>\n",
              "      <td>0</td>\n",
              "      <td>0</td>\n",
              "      <td>0.0</td>\n",
              "      <td>0</td>\n",
              "      <td>0</td>\n",
              "      <td>0</td>\n",
              "      <td>0</td>\n",
              "      <td>True</td>\n",
              "      <td>True</td>\n",
              "      <td>all</td>\n",
              "      <td>1</td>\n",
              "    </tr>\n",
              "    <tr>\n",
              "      <th>3</th>\n",
              "      <td>1368922</td>\n",
              "      <td>481681</td>\n",
              "      <td>None</td>\n",
              "      <td>2015-12-01</td>\n",
              "      <td>24</td>\n",
              "      <td>2013-06-01</td>\n",
              "      <td>2013-06-01</td>\n",
              "      <td>09. at risk</td>\n",
              "      <td>1</td>\n",
              "      <td>1</td>\n",
              "      <td>1</td>\n",
              "      <td>2</td>\n",
              "      <td>1</td>\n",
              "      <td>1</td>\n",
              "      <td>5</td>\n",
              "      <td>4.0</td>\n",
              "      <td>8.0</td>\n",
              "      <td>4.0</td>\n",
              "      <td>0.0</td>\n",
              "      <td>0.0</td>\n",
              "      <td>0.0</td>\n",
              "      <td>0</td>\n",
              "      <td>0</td>\n",
              "      <td>0</td>\n",
              "      <td>0</td>\n",
              "      <td>ID</td>\n",
              "      <td>False</td>\n",
              "      <td>True</td>\n",
              "      <td>0.0</td>\n",
              "      <td>0.0</td>\n",
              "      <td>0.0</td>\n",
              "      <td>2</td>\n",
              "      <td>1</td>\n",
              "      <td>0.0</td>\n",
              "      <td>0</td>\n",
              "      <td>0</td>\n",
              "      <td>0</td>\n",
              "      <td>0</td>\n",
              "      <td>True</td>\n",
              "      <td>True</td>\n",
              "      <td>all</td>\n",
              "      <td>1</td>\n",
              "    </tr>\n",
              "    <tr>\n",
              "      <th>4</th>\n",
              "      <td>124127</td>\n",
              "      <td>186377</td>\n",
              "      <td>None</td>\n",
              "      <td>2015-12-01</td>\n",
              "      <td>24</td>\n",
              "      <td>2013-05-01</td>\n",
              "      <td>2013-05-01</td>\n",
              "      <td>09. at risk</td>\n",
              "      <td>1</td>\n",
              "      <td>1</td>\n",
              "      <td>1</td>\n",
              "      <td>1</td>\n",
              "      <td>1</td>\n",
              "      <td>1</td>\n",
              "      <td>5</td>\n",
              "      <td>4.0</td>\n",
              "      <td>4.0</td>\n",
              "      <td>4.0</td>\n",
              "      <td>0.0</td>\n",
              "      <td>0.0</td>\n",
              "      <td>0.0</td>\n",
              "      <td>0</td>\n",
              "      <td>0</td>\n",
              "      <td>0</td>\n",
              "      <td>0</td>\n",
              "      <td>ID</td>\n",
              "      <td>False</td>\n",
              "      <td>False</td>\n",
              "      <td>0.0</td>\n",
              "      <td>0.0</td>\n",
              "      <td>0.0</td>\n",
              "      <td>0</td>\n",
              "      <td>0</td>\n",
              "      <td>0.0</td>\n",
              "      <td>0</td>\n",
              "      <td>0</td>\n",
              "      <td>0</td>\n",
              "      <td>0</td>\n",
              "      <td>True</td>\n",
              "      <td>True</td>\n",
              "      <td>all</td>\n",
              "      <td>1</td>\n",
              "    </tr>\n",
              "    <tr>\n",
              "      <th>5</th>\n",
              "      <td>254226</td>\n",
              "      <td>497377</td>\n",
              "      <td>None</td>\n",
              "      <td>2015-12-01</td>\n",
              "      <td>24</td>\n",
              "      <td>2013-06-01</td>\n",
              "      <td>2013-08-01</td>\n",
              "      <td>09. at risk</td>\n",
              "      <td>1</td>\n",
              "      <td>1</td>\n",
              "      <td>1</td>\n",
              "      <td>1</td>\n",
              "      <td>1</td>\n",
              "      <td>1</td>\n",
              "      <td>5</td>\n",
              "      <td>10.0</td>\n",
              "      <td>10.0</td>\n",
              "      <td>10.0</td>\n",
              "      <td>0.0</td>\n",
              "      <td>0.0</td>\n",
              "      <td>0.0</td>\n",
              "      <td>0</td>\n",
              "      <td>0</td>\n",
              "      <td>0</td>\n",
              "      <td>0</td>\n",
              "      <td>ID</td>\n",
              "      <td>False</td>\n",
              "      <td>False</td>\n",
              "      <td>0.0</td>\n",
              "      <td>0.0</td>\n",
              "      <td>0.0</td>\n",
              "      <td>0</td>\n",
              "      <td>0</td>\n",
              "      <td>0.0</td>\n",
              "      <td>0</td>\n",
              "      <td>0</td>\n",
              "      <td>0</td>\n",
              "      <td>0</td>\n",
              "      <td>True</td>\n",
              "      <td>True</td>\n",
              "      <td>all</td>\n",
              "      <td>1</td>\n",
              "    </tr>\n",
              "    <tr>\n",
              "      <th>6</th>\n",
              "      <td>271805</td>\n",
              "      <td>355465</td>\n",
              "      <td>None</td>\n",
              "      <td>2015-12-01</td>\n",
              "      <td>24</td>\n",
              "      <td>2013-06-01</td>\n",
              "      <td>2013-06-01</td>\n",
              "      <td>09. at risk</td>\n",
              "      <td>1</td>\n",
              "      <td>1</td>\n",
              "      <td>1</td>\n",
              "      <td>1</td>\n",
              "      <td>1</td>\n",
              "      <td>1</td>\n",
              "      <td>5</td>\n",
              "      <td>4.0</td>\n",
              "      <td>4.0</td>\n",
              "      <td>4.0</td>\n",
              "      <td>0.0</td>\n",
              "      <td>0.0</td>\n",
              "      <td>0.0</td>\n",
              "      <td>0</td>\n",
              "      <td>0</td>\n",
              "      <td>0</td>\n",
              "      <td>0</td>\n",
              "      <td>ID</td>\n",
              "      <td>False</td>\n",
              "      <td>False</td>\n",
              "      <td>0.0</td>\n",
              "      <td>0.0</td>\n",
              "      <td>0.0</td>\n",
              "      <td>0</td>\n",
              "      <td>0</td>\n",
              "      <td>0.0</td>\n",
              "      <td>0</td>\n",
              "      <td>0</td>\n",
              "      <td>0</td>\n",
              "      <td>0</td>\n",
              "      <td>True</td>\n",
              "      <td>True</td>\n",
              "      <td>all</td>\n",
              "      <td>1</td>\n",
              "    </tr>\n",
              "    <tr>\n",
              "      <th>7</th>\n",
              "      <td>824814</td>\n",
              "      <td>156321</td>\n",
              "      <td>None</td>\n",
              "      <td>2015-12-01</td>\n",
              "      <td>24</td>\n",
              "      <td>2013-05-01</td>\n",
              "      <td>2013-08-01</td>\n",
              "      <td>11. hibernating</td>\n",
              "      <td>1</td>\n",
              "      <td>1</td>\n",
              "      <td>1</td>\n",
              "      <td>1</td>\n",
              "      <td>1</td>\n",
              "      <td>1</td>\n",
              "      <td>5</td>\n",
              "      <td>3.0</td>\n",
              "      <td>3.0</td>\n",
              "      <td>3.0</td>\n",
              "      <td>0.0</td>\n",
              "      <td>0.0</td>\n",
              "      <td>0.0</td>\n",
              "      <td>0</td>\n",
              "      <td>0</td>\n",
              "      <td>0</td>\n",
              "      <td>0</td>\n",
              "      <td>ID</td>\n",
              "      <td>False</td>\n",
              "      <td>True</td>\n",
              "      <td>0.0</td>\n",
              "      <td>0.0</td>\n",
              "      <td>0.0</td>\n",
              "      <td>0</td>\n",
              "      <td>0</td>\n",
              "      <td>0.0</td>\n",
              "      <td>0</td>\n",
              "      <td>0</td>\n",
              "      <td>0</td>\n",
              "      <td>0</td>\n",
              "      <td>True</td>\n",
              "      <td>True</td>\n",
              "      <td>all</td>\n",
              "      <td>1</td>\n",
              "    </tr>\n",
              "    <tr>\n",
              "      <th>8</th>\n",
              "      <td>1181019</td>\n",
              "      <td>279241</td>\n",
              "      <td>None</td>\n",
              "      <td>2015-12-01</td>\n",
              "      <td>24</td>\n",
              "      <td>2013-08-01</td>\n",
              "      <td>2013-08-01</td>\n",
              "      <td>11. hibernating</td>\n",
              "      <td>1</td>\n",
              "      <td>1</td>\n",
              "      <td>1</td>\n",
              "      <td>1</td>\n",
              "      <td>1</td>\n",
              "      <td>1</td>\n",
              "      <td>5</td>\n",
              "      <td>3.0</td>\n",
              "      <td>3.0</td>\n",
              "      <td>3.0</td>\n",
              "      <td>0.0</td>\n",
              "      <td>0.0</td>\n",
              "      <td>0.0</td>\n",
              "      <td>0</td>\n",
              "      <td>0</td>\n",
              "      <td>0</td>\n",
              "      <td>0</td>\n",
              "      <td>ID</td>\n",
              "      <td>False</td>\n",
              "      <td>False</td>\n",
              "      <td>0.0</td>\n",
              "      <td>0.0</td>\n",
              "      <td>0.0</td>\n",
              "      <td>0</td>\n",
              "      <td>0</td>\n",
              "      <td>0.0</td>\n",
              "      <td>0</td>\n",
              "      <td>0</td>\n",
              "      <td>0</td>\n",
              "      <td>0</td>\n",
              "      <td>True</td>\n",
              "      <td>True</td>\n",
              "      <td>all</td>\n",
              "      <td>1</td>\n",
              "    </tr>\n",
              "    <tr>\n",
              "      <th>9</th>\n",
              "      <td>1221682</td>\n",
              "      <td>421881</td>\n",
              "      <td>None</td>\n",
              "      <td>2015-12-01</td>\n",
              "      <td>24</td>\n",
              "      <td>2013-06-01</td>\n",
              "      <td>2013-06-01</td>\n",
              "      <td>11. hibernating</td>\n",
              "      <td>1</td>\n",
              "      <td>1</td>\n",
              "      <td>1</td>\n",
              "      <td>1</td>\n",
              "      <td>1</td>\n",
              "      <td>1</td>\n",
              "      <td>5</td>\n",
              "      <td>3.0</td>\n",
              "      <td>3.0</td>\n",
              "      <td>3.0</td>\n",
              "      <td>0.0</td>\n",
              "      <td>0.0</td>\n",
              "      <td>0.0</td>\n",
              "      <td>0</td>\n",
              "      <td>0</td>\n",
              "      <td>0</td>\n",
              "      <td>0</td>\n",
              "      <td>ID</td>\n",
              "      <td>False</td>\n",
              "      <td>False</td>\n",
              "      <td>0.0</td>\n",
              "      <td>0.0</td>\n",
              "      <td>0.0</td>\n",
              "      <td>0</td>\n",
              "      <td>0</td>\n",
              "      <td>0.0</td>\n",
              "      <td>0</td>\n",
              "      <td>0</td>\n",
              "      <td>0</td>\n",
              "      <td>0</td>\n",
              "      <td>True</td>\n",
              "      <td>True</td>\n",
              "      <td>all</td>\n",
              "      <td>1</td>\n",
              "    </tr>\n",
              "  </tbody>\n",
              "</table>\n",
              "</div>"
            ],
            "text/plain": [
              "   row_num  profile_id last_ads_id  ... is_churn  product product_breadth\n",
              "0   147551      796929        None  ...     True      all               1\n",
              "1   462257      320465        None  ...     True      all               1\n",
              "2  1021708      359569        None  ...     True      all               1\n",
              "3  1368922      481681        None  ...     True      all               1\n",
              "4   124127      186377        None  ...     True      all               1\n",
              "5   254226      497377        None  ...     True      all               1\n",
              "6   271805      355465        None  ...     True      all               1\n",
              "7   824814      156321        None  ...     True      all               1\n",
              "8  1181019      279241        None  ...     True      all               1\n",
              "9  1221682      421881        None  ...     True      all               1\n",
              "\n",
              "[10 rows x 42 columns]"
            ]
          },
          "metadata": {
            "tags": []
          },
          "execution_count": 19
        }
      ]
    },
    {
      "cell_type": "code",
      "metadata": {
        "id": "q8kcKPJR47m4",
        "colab_type": "code",
        "colab": {}
      },
      "source": [
        "import seaborn as sns"
      ],
      "execution_count": 0,
      "outputs": []
    },
    {
      "cell_type": "code",
      "metadata": {
        "id": "OlODiI3M5-Sp",
        "colab_type": "code",
        "colab": {}
      },
      "source": [
        "tvlk_customers[\"is_churn\"].replace({True: 1, False: 0}, inplace = True)"
      ],
      "execution_count": 0,
      "outputs": []
    },
    {
      "cell_type": "code",
      "metadata": {
        "id": "piWUsZJs5bsD",
        "colab_type": "code",
        "colab": {
          "base_uri": "https://localhost:8080/",
          "height": 1000
        },
        "outputId": "ef918287-03c4-4dcb-b2ec-e600fc9c6162"
      },
      "source": [
        "tvlk_customers[['is_churn', 'earned_points_all']]"
      ],
      "execution_count": 32,
      "outputs": [
        {
          "output_type": "execute_result",
          "data": {
            "text/html": [
              "<div>\n",
              "<style scoped>\n",
              "    .dataframe tbody tr th:only-of-type {\n",
              "        vertical-align: middle;\n",
              "    }\n",
              "\n",
              "    .dataframe tbody tr th {\n",
              "        vertical-align: top;\n",
              "    }\n",
              "\n",
              "    .dataframe thead th {\n",
              "        text-align: right;\n",
              "    }\n",
              "</style>\n",
              "<table border=\"1\" class=\"dataframe\">\n",
              "  <thead>\n",
              "    <tr style=\"text-align: right;\">\n",
              "      <th></th>\n",
              "      <th>is_churn</th>\n",
              "      <th>earned_points_all</th>\n",
              "    </tr>\n",
              "  </thead>\n",
              "  <tbody>\n",
              "    <tr>\n",
              "      <th>0</th>\n",
              "      <td>1</td>\n",
              "      <td>0</td>\n",
              "    </tr>\n",
              "    <tr>\n",
              "      <th>1</th>\n",
              "      <td>1</td>\n",
              "      <td>0</td>\n",
              "    </tr>\n",
              "    <tr>\n",
              "      <th>2</th>\n",
              "      <td>1</td>\n",
              "      <td>0</td>\n",
              "    </tr>\n",
              "    <tr>\n",
              "      <th>3</th>\n",
              "      <td>1</td>\n",
              "      <td>0</td>\n",
              "    </tr>\n",
              "    <tr>\n",
              "      <th>4</th>\n",
              "      <td>1</td>\n",
              "      <td>0</td>\n",
              "    </tr>\n",
              "    <tr>\n",
              "      <th>5</th>\n",
              "      <td>1</td>\n",
              "      <td>0</td>\n",
              "    </tr>\n",
              "    <tr>\n",
              "      <th>6</th>\n",
              "      <td>1</td>\n",
              "      <td>0</td>\n",
              "    </tr>\n",
              "    <tr>\n",
              "      <th>7</th>\n",
              "      <td>1</td>\n",
              "      <td>0</td>\n",
              "    </tr>\n",
              "    <tr>\n",
              "      <th>8</th>\n",
              "      <td>1</td>\n",
              "      <td>0</td>\n",
              "    </tr>\n",
              "    <tr>\n",
              "      <th>9</th>\n",
              "      <td>1</td>\n",
              "      <td>0</td>\n",
              "    </tr>\n",
              "    <tr>\n",
              "      <th>10</th>\n",
              "      <td>1</td>\n",
              "      <td>0</td>\n",
              "    </tr>\n",
              "    <tr>\n",
              "      <th>11</th>\n",
              "      <td>1</td>\n",
              "      <td>0</td>\n",
              "    </tr>\n",
              "    <tr>\n",
              "      <th>12</th>\n",
              "      <td>1</td>\n",
              "      <td>0</td>\n",
              "    </tr>\n",
              "    <tr>\n",
              "      <th>13</th>\n",
              "      <td>1</td>\n",
              "      <td>0</td>\n",
              "    </tr>\n",
              "    <tr>\n",
              "      <th>14</th>\n",
              "      <td>1</td>\n",
              "      <td>0</td>\n",
              "    </tr>\n",
              "    <tr>\n",
              "      <th>15</th>\n",
              "      <td>1</td>\n",
              "      <td>0</td>\n",
              "    </tr>\n",
              "    <tr>\n",
              "      <th>16</th>\n",
              "      <td>1</td>\n",
              "      <td>0</td>\n",
              "    </tr>\n",
              "    <tr>\n",
              "      <th>17</th>\n",
              "      <td>1</td>\n",
              "      <td>0</td>\n",
              "    </tr>\n",
              "    <tr>\n",
              "      <th>18</th>\n",
              "      <td>1</td>\n",
              "      <td>0</td>\n",
              "    </tr>\n",
              "    <tr>\n",
              "      <th>19</th>\n",
              "      <td>1</td>\n",
              "      <td>0</td>\n",
              "    </tr>\n",
              "    <tr>\n",
              "      <th>20</th>\n",
              "      <td>1</td>\n",
              "      <td>0</td>\n",
              "    </tr>\n",
              "    <tr>\n",
              "      <th>21</th>\n",
              "      <td>1</td>\n",
              "      <td>0</td>\n",
              "    </tr>\n",
              "    <tr>\n",
              "      <th>22</th>\n",
              "      <td>1</td>\n",
              "      <td>0</td>\n",
              "    </tr>\n",
              "    <tr>\n",
              "      <th>23</th>\n",
              "      <td>1</td>\n",
              "      <td>0</td>\n",
              "    </tr>\n",
              "    <tr>\n",
              "      <th>24</th>\n",
              "      <td>1</td>\n",
              "      <td>0</td>\n",
              "    </tr>\n",
              "    <tr>\n",
              "      <th>25</th>\n",
              "      <td>1</td>\n",
              "      <td>0</td>\n",
              "    </tr>\n",
              "    <tr>\n",
              "      <th>26</th>\n",
              "      <td>1</td>\n",
              "      <td>0</td>\n",
              "    </tr>\n",
              "    <tr>\n",
              "      <th>27</th>\n",
              "      <td>1</td>\n",
              "      <td>0</td>\n",
              "    </tr>\n",
              "    <tr>\n",
              "      <th>28</th>\n",
              "      <td>1</td>\n",
              "      <td>0</td>\n",
              "    </tr>\n",
              "    <tr>\n",
              "      <th>29</th>\n",
              "      <td>1</td>\n",
              "      <td>0</td>\n",
              "    </tr>\n",
              "    <tr>\n",
              "      <th>...</th>\n",
              "      <td>...</td>\n",
              "      <td>...</td>\n",
              "    </tr>\n",
              "    <tr>\n",
              "      <th>167113</th>\n",
              "      <td>1</td>\n",
              "      <td>0</td>\n",
              "    </tr>\n",
              "    <tr>\n",
              "      <th>167114</th>\n",
              "      <td>1</td>\n",
              "      <td>0</td>\n",
              "    </tr>\n",
              "    <tr>\n",
              "      <th>167115</th>\n",
              "      <td>1</td>\n",
              "      <td>0</td>\n",
              "    </tr>\n",
              "    <tr>\n",
              "      <th>167116</th>\n",
              "      <td>1</td>\n",
              "      <td>0</td>\n",
              "    </tr>\n",
              "    <tr>\n",
              "      <th>167117</th>\n",
              "      <td>1</td>\n",
              "      <td>0</td>\n",
              "    </tr>\n",
              "    <tr>\n",
              "      <th>167118</th>\n",
              "      <td>1</td>\n",
              "      <td>0</td>\n",
              "    </tr>\n",
              "    <tr>\n",
              "      <th>167119</th>\n",
              "      <td>1</td>\n",
              "      <td>0</td>\n",
              "    </tr>\n",
              "    <tr>\n",
              "      <th>167120</th>\n",
              "      <td>1</td>\n",
              "      <td>0</td>\n",
              "    </tr>\n",
              "    <tr>\n",
              "      <th>167121</th>\n",
              "      <td>1</td>\n",
              "      <td>0</td>\n",
              "    </tr>\n",
              "    <tr>\n",
              "      <th>167122</th>\n",
              "      <td>1</td>\n",
              "      <td>0</td>\n",
              "    </tr>\n",
              "    <tr>\n",
              "      <th>167123</th>\n",
              "      <td>1</td>\n",
              "      <td>0</td>\n",
              "    </tr>\n",
              "    <tr>\n",
              "      <th>167124</th>\n",
              "      <td>1</td>\n",
              "      <td>0</td>\n",
              "    </tr>\n",
              "    <tr>\n",
              "      <th>167125</th>\n",
              "      <td>1</td>\n",
              "      <td>0</td>\n",
              "    </tr>\n",
              "    <tr>\n",
              "      <th>167126</th>\n",
              "      <td>1</td>\n",
              "      <td>0</td>\n",
              "    </tr>\n",
              "    <tr>\n",
              "      <th>167127</th>\n",
              "      <td>1</td>\n",
              "      <td>0</td>\n",
              "    </tr>\n",
              "    <tr>\n",
              "      <th>167128</th>\n",
              "      <td>1</td>\n",
              "      <td>0</td>\n",
              "    </tr>\n",
              "    <tr>\n",
              "      <th>167129</th>\n",
              "      <td>1</td>\n",
              "      <td>0</td>\n",
              "    </tr>\n",
              "    <tr>\n",
              "      <th>167130</th>\n",
              "      <td>1</td>\n",
              "      <td>0</td>\n",
              "    </tr>\n",
              "    <tr>\n",
              "      <th>167131</th>\n",
              "      <td>1</td>\n",
              "      <td>0</td>\n",
              "    </tr>\n",
              "    <tr>\n",
              "      <th>167132</th>\n",
              "      <td>1</td>\n",
              "      <td>0</td>\n",
              "    </tr>\n",
              "    <tr>\n",
              "      <th>167133</th>\n",
              "      <td>1</td>\n",
              "      <td>0</td>\n",
              "    </tr>\n",
              "    <tr>\n",
              "      <th>167134</th>\n",
              "      <td>1</td>\n",
              "      <td>0</td>\n",
              "    </tr>\n",
              "    <tr>\n",
              "      <th>167135</th>\n",
              "      <td>1</td>\n",
              "      <td>0</td>\n",
              "    </tr>\n",
              "    <tr>\n",
              "      <th>167136</th>\n",
              "      <td>1</td>\n",
              "      <td>0</td>\n",
              "    </tr>\n",
              "    <tr>\n",
              "      <th>167137</th>\n",
              "      <td>1</td>\n",
              "      <td>0</td>\n",
              "    </tr>\n",
              "    <tr>\n",
              "      <th>167138</th>\n",
              "      <td>1</td>\n",
              "      <td>0</td>\n",
              "    </tr>\n",
              "    <tr>\n",
              "      <th>167139</th>\n",
              "      <td>1</td>\n",
              "      <td>0</td>\n",
              "    </tr>\n",
              "    <tr>\n",
              "      <th>167140</th>\n",
              "      <td>1</td>\n",
              "      <td>0</td>\n",
              "    </tr>\n",
              "    <tr>\n",
              "      <th>167141</th>\n",
              "      <td>1</td>\n",
              "      <td>0</td>\n",
              "    </tr>\n",
              "    <tr>\n",
              "      <th>167142</th>\n",
              "      <td>1</td>\n",
              "      <td>0</td>\n",
              "    </tr>\n",
              "  </tbody>\n",
              "</table>\n",
              "<p>167143 rows × 2 columns</p>\n",
              "</div>"
            ],
            "text/plain": [
              "        is_churn  earned_points_all\n",
              "0              1                  0\n",
              "1              1                  0\n",
              "2              1                  0\n",
              "3              1                  0\n",
              "4              1                  0\n",
              "5              1                  0\n",
              "6              1                  0\n",
              "7              1                  0\n",
              "8              1                  0\n",
              "9              1                  0\n",
              "10             1                  0\n",
              "11             1                  0\n",
              "12             1                  0\n",
              "13             1                  0\n",
              "14             1                  0\n",
              "15             1                  0\n",
              "16             1                  0\n",
              "17             1                  0\n",
              "18             1                  0\n",
              "19             1                  0\n",
              "20             1                  0\n",
              "21             1                  0\n",
              "22             1                  0\n",
              "23             1                  0\n",
              "24             1                  0\n",
              "25             1                  0\n",
              "26             1                  0\n",
              "27             1                  0\n",
              "28             1                  0\n",
              "29             1                  0\n",
              "...          ...                ...\n",
              "167113         1                  0\n",
              "167114         1                  0\n",
              "167115         1                  0\n",
              "167116         1                  0\n",
              "167117         1                  0\n",
              "167118         1                  0\n",
              "167119         1                  0\n",
              "167120         1                  0\n",
              "167121         1                  0\n",
              "167122         1                  0\n",
              "167123         1                  0\n",
              "167124         1                  0\n",
              "167125         1                  0\n",
              "167126         1                  0\n",
              "167127         1                  0\n",
              "167128         1                  0\n",
              "167129         1                  0\n",
              "167130         1                  0\n",
              "167131         1                  0\n",
              "167132         1                  0\n",
              "167133         1                  0\n",
              "167134         1                  0\n",
              "167135         1                  0\n",
              "167136         1                  0\n",
              "167137         1                  0\n",
              "167138         1                  0\n",
              "167139         1                  0\n",
              "167140         1                  0\n",
              "167141         1                  0\n",
              "167142         1                  0\n",
              "\n",
              "[167143 rows x 2 columns]"
            ]
          },
          "metadata": {
            "tags": []
          },
          "execution_count": 32
        }
      ]
    },
    {
      "cell_type": "code",
      "metadata": {
        "id": "-CtuMPQ53STP",
        "colab_type": "code",
        "colab": {}
      },
      "source": [
        "g = sns.pairplot(df_app_install_with_net_revenue_agg\n",
        "                     .loc[df_app_install_with_net_revenue_agg['country']==country_tmp, :], \n",
        "                     hue='campaign', diag_kind='kde', height=4, aspect=1)\n",
        "    plt.title(country_tmp)\n",
        "    print(g)"
      ],
      "execution_count": 0,
      "outputs": []
    },
    {
      "cell_type": "code",
      "metadata": {
        "id": "OuilFM_JrOOz",
        "colab_type": "code",
        "colab": {}
      },
      "source": [
        ""
      ],
      "execution_count": 0,
      "outputs": []
    }
  ]
}